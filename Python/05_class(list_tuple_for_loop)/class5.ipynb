{
 "cells": [
  {
   "cell_type": "markdown",
   "metadata": {},
   "source": [
    "# List\n",
    "\n",
    "*    iteration operation with loop\n",
    "*    apply any operation on element\n",
    "\n"
   ]
  },
  {
   "cell_type": "code",
   "execution_count": 1,
   "metadata": {},
   "outputs": [
    {
     "name": "stdout",
     "output_type": "stream",
     "text": [
      "['sami', 'Taha']\n"
     ]
    }
   ],
   "source": [
    "name:list[str] = [\"sami\" , \"Taha\"]\n",
    "print(name)"
   ]
  },
  {
   "cell_type": "code",
   "execution_count": 12,
   "metadata": {},
   "outputs": [
    {
     "name": "stdout",
     "output_type": "stream",
     "text": [
      "sami\n",
      "Taha\n",
      "Faiq\n"
     ]
    }
   ],
   "source": [
    "name:list[str] = [\"sami\" , \"Taha\",\"Faiq\"]\n",
    "for name in name:\n",
    "    print(name)"
   ]
  },
  {
   "cell_type": "code",
   "execution_count": 13,
   "metadata": {},
   "outputs": [
    {
     "name": "stdout",
     "output_type": "stream",
     "text": [
      "Sir Zia\n",
      "Muhammad Qasim\n",
      "DR Noman\n"
     ]
    }
   ],
   "source": [
    "names = ['Sir Zia', \"Muhammad Qasim\", \"DR Noman\"]\n",
    "\n",
    "i:int = 0 # counter = 0\n",
    "\n",
    "while i<len(names): # names length =3\n",
    "    print(names[i])\n",
    "    i += 1"
   ]
  },
  {
   "cell_type": "markdown",
   "metadata": {},
   "source": [
    "# java script way\n",
    "\n",
    "Sir Zia\n",
    "Muhammad Qasim\n",
    "DR Noman\n",
    "\n",
    "names = names = ['Sir Zia', \"Muhammad Qasim\", \"DR Noman\"]\n",
    "\n",
    "for(i=0; i<names.length; i++){\n",
    "    names[i]\n",
    "}\n",
    "\n"
   ]
  },
  {
   "cell_type": "code",
   "execution_count": 23,
   "metadata": {},
   "outputs": [
    {
     "name": "stdout",
     "output_type": "stream",
     "text": [
      "sami\n",
      "Taha\n",
      "Faiq\n"
     ]
    }
   ],
   "source": [
    "name:list[str] = [\"sami\" , \"Taha\",\"Faiq\"]\n",
    "for name in name:\n",
    "    print(name)"
   ]
  },
  {
   "cell_type": "code",
   "execution_count": 32,
   "metadata": {},
   "outputs": [
    {
     "name": "stdout",
     "output_type": "stream",
     "text": [
      "Welcome Dear Teacher Sami \n",
      "generative AI\n",
      "\n",
      "Welcome Dear Teacher Taha \n",
      "generative AI\n",
      "\n",
      "Welcome Dear Teacher Faiq \n",
      "generative AI\n",
      "\n",
      "pakistan zinda bad\n"
     ]
    }
   ],
   "source": [
    "name:list[str] = [\"sami\" , \"Taha\",\"Faiq\"]\n",
    "for name in name:\n",
    "    print(f'Welcome Dear Teacher {name.title()} ')\n",
    "    print(\"generative AI\\n\")\n",
    "print(\"pakistan zinda bad\")    "
   ]
  },
  {
   "cell_type": "code",
   "execution_count": 34,
   "metadata": {},
   "outputs": [
    {
     "name": "stdout",
     "output_type": "stream",
     "text": [
      "Welcome Dear Teacher Taha \n",
      "Welcome Dear Teacher Faiq \n"
     ]
    }
   ],
   "source": [
    "name:list[str] = [\"sami\" , \"Taha\",\"Faiq\"]\n",
    "for name in name[1:]:\n",
    "    print(f'Welcome Dear Teacher {name.title()} ')\n",
    " "
   ]
  },
  {
   "cell_type": "markdown",
   "metadata": {},
   "source": [
    "# TUPLE"
   ]
  },
  {
   "cell_type": "code",
   "execution_count": 38,
   "metadata": {},
   "outputs": [
    {
     "name": "stdout",
     "output_type": "stream",
     "text": [
      "('sami', '123')\n",
      "('Taha', '456')\n",
      "('faiq', '123')\n"
     ]
    }
   ],
   "source": [
    "    # Tuple\n",
    "data_base:list[tuple[str,str]] = [(\"sami\",\"123\"),(\n",
    "    \"Taha\",\"456\"),(\"faiq\",\"123\")]\n",
    "\n",
    "for rew in data_base:\n",
    "      print(rew)  "
   ]
  },
  {
   "cell_type": "code",
   "execution_count": 42,
   "metadata": {},
   "outputs": [
    {
     "name": "stdout",
     "output_type": "stream",
     "text": [
      "User: sami , Passord 123\n",
      "User: Taha , Passord 456\n",
      "User: faiq , Passord 123\n"
     ]
    }
   ],
   "source": [
    "    # Tuple\n",
    "data_base:list[tuple[str,str]] = [(\"sami\",\"123\"),(\n",
    "    \"Taha\",\"456\"),(\"faiq\",\"123\")]\n",
    "\n",
    "for rew in data_base:\n",
    "     user, password = rew\n",
    "     print(f\"User: {user} , Passord {password}\") "
   ]
  },
  {
   "cell_type": "code",
   "execution_count": 1,
   "metadata": {},
   "outputs": [],
   "source": [
    "data_base:list[tuple[str,str]] = [(\"sami\",\"123\"),(\n",
    "    \"Taha\",\"456\"),(\"faiq\",\"123\")]\n",
    "input_User: str = input(\"Enter User Name\")\n",
    "\n",
    "input_Password: str = input(\"Enter User Name\")\n",
    "\n",
    "for rew in data_base:\n",
    "     user, password = rew\n",
    "     if input_User == user and input_Password == password:\n",
    "         print(\"valid User\")\n",
    "         break\n",
    "else:\n",
    "    print(\"not found\")\n",
    "    #  print(f\"User: {user} , Passord {password}\") "
   ]
  },
  {
   "cell_type": "code",
   "execution_count": 57,
   "metadata": {},
   "outputs": [
    {
     "data": {
      "text/plain": [
       "[(0, 'alice'), (1, 'david'), (2, 'carolina')]"
      ]
     },
     "execution_count": 57,
     "metadata": {},
     "output_type": "execute_result"
    }
   ],
   "source": [
    "#              0        1         2\n",
    "magicians = ['alice', 'david', 'carolina']\n",
    "\n",
    "list(enumerate(magicians))\n",
    "\n"
   ]
  },
  {
   "cell_type": "code",
   "execution_count": 58,
   "metadata": {},
   "outputs": [
    {
     "name": "stdout",
     "output_type": "stream",
     "text": [
      "0 alice\n",
      "1 david\n",
      "2 carolina\n"
     ]
    }
   ],
   "source": [
    "#              0        1         2\n",
    "magicians = ['alice', 'david', 'carolina']\n",
    "\n",
    "for index, name in enumerate(magicians):\n",
    "    print(index, name)"
   ]
  },
  {
   "cell_type": "markdown",
   "metadata": {},
   "source": [
    "# Number With Loop\n",
    " * range(start,end,step)"
   ]
  },
  {
   "cell_type": "code",
   "execution_count": 47,
   "metadata": {},
   "outputs": [
    {
     "data": {
      "text/plain": [
       "range(0, 10)"
      ]
     },
     "execution_count": 47,
     "metadata": {},
     "output_type": "execute_result"
    }
   ],
   "source": [
    "range(10)"
   ]
  },
  {
   "cell_type": "code",
   "execution_count": 48,
   "metadata": {},
   "outputs": [
    {
     "data": {
      "text/plain": [
       "[0, 1, 2, 3, 4, 5, 6, 7, 8, 9]"
      ]
     },
     "execution_count": 48,
     "metadata": {},
     "output_type": "execute_result"
    }
   ],
   "source": [
    "list(range(10))# starting=0, ending = n-1"
   ]
  },
  {
   "cell_type": "code",
   "execution_count": 49,
   "metadata": {},
   "outputs": [
    {
     "data": {
      "text/plain": [
       "[2, 3, 4, 5, 6, 7, 8, 9]"
      ]
     },
     "execution_count": 49,
     "metadata": {},
     "output_type": "execute_result"
    }
   ],
   "source": [
    "list(range(2,10))# starting=0, ending = n-1"
   ]
  },
  {
   "cell_type": "code",
   "execution_count": 50,
   "metadata": {},
   "outputs": [
    {
     "data": {
      "text/plain": [
       "[2, 4, 6, 8, 10, 12, 14, 16, 18, 20]"
      ]
     },
     "execution_count": 50,
     "metadata": {},
     "output_type": "execute_result"
    }
   ],
   "source": [
    "list(range(2,21,2))# starting=0, ending = n-1 21-1=20, step\n"
   ]
  },
  {
   "cell_type": "code",
   "execution_count": 51,
   "metadata": {},
   "outputs": [
    {
     "name": "stdout",
     "output_type": "stream",
     "text": [
      "1\n",
      "2\n",
      "3\n",
      "4\n",
      "5\n",
      "6\n",
      "7\n",
      "8\n",
      "9\n",
      "10\n"
     ]
    }
   ],
   "source": [
    "for n in range(1,11):\n",
    "    print(n)"
   ]
  },
  {
   "cell_type": "code",
   "execution_count": 52,
   "metadata": {},
   "outputs": [
    {
     "name": "stdout",
     "output_type": "stream",
     "text": [
      "2 X 1 = 2\n",
      "2 X 2 = 4\n",
      "2 X 3 = 6\n",
      "2 X 4 = 8\n",
      "2 X 5 = 10\n",
      "2 X 6 = 12\n",
      "2 X 7 = 14\n",
      "2 X 8 = 16\n",
      "2 X 9 = 18\n",
      "2 X 10 = 20\n"
     ]
    }
   ],
   "source": [
    "for n in range(1,11):\n",
    "    print(f\"{2} X {n} = {n*2}\")"
   ]
  },
  {
   "cell_type": "code",
   "execution_count": 55,
   "metadata": {},
   "outputs": [
    {
     "name": "stdout",
     "output_type": "stream",
     "text": [
      "[1, 4, 9, 16, 25, 36, 49, 64, 81, 100]\n"
     ]
    }
   ],
   "source": [
    "squares:list[int] = []\n",
    "for value in range(1, 11):\n",
    "    square = value ** 2\n",
    "    squares.append(square)\n",
    "print(squares)"
   ]
  },
  {
   "cell_type": "markdown",
   "metadata": {},
   "source": [
    "# List Comprehensive\n",
    "\n",
    "for item in items_list:\n",
    "    loop_body\n",
    "\n",
    "## Comprehensive Style\n",
    "\n",
    "[loop_body for item in items_list]\n",
    "\n"
   ]
  },
  {
   "cell_type": "code",
   "execution_count": 59,
   "metadata": {},
   "outputs": [
    {
     "data": {
      "text/plain": [
       "[1, 2, 3, 4, 5, 6, 7, 8, 9, 10]"
      ]
     },
     "execution_count": 59,
     "metadata": {},
     "output_type": "execute_result"
    }
   ],
   "source": [
    "list(range(1,11))"
   ]
  },
  {
   "cell_type": "code",
   "execution_count": 60,
   "metadata": {},
   "outputs": [
    {
     "data": {
      "text/plain": [
       "[1, 4, 9, 16, 25, 36, 49, 64, 81, 100]"
      ]
     },
     "execution_count": 60,
     "metadata": {},
     "output_type": "execute_result"
    }
   ],
   "source": [
    "[i**2 for i in range(1,11)]"
   ]
  },
  {
   "cell_type": "code",
   "execution_count": 61,
   "metadata": {},
   "outputs": [
    {
     "name": "stdout",
     "output_type": "stream",
     "text": [
      "[1, 2, 3, 4, 5, 6, 7, 8, 9, 0]\n",
      "9\n",
      "0\n",
      "45\n"
     ]
    }
   ],
   "source": [
    "digits:list[int] = [1, 2, 3, 4, 5, 6, 7, 8, 9, 0]\n",
    "\n",
    "print(digits)\n",
    "print(max(digits))\n",
    "print(min(digits))\n",
    "print(sum(digits))\n",
    "\n"
   ]
  },
  {
   "cell_type": "code",
   "execution_count": 62,
   "metadata": {},
   "outputs": [
    {
     "name": "stdout",
     "output_type": "stream",
     "text": [
      "['pizza', 'falafel', 'carrot cake']\n",
      "['pizza', 'falafel']\n",
      "['pizza', 'falafel', 'carrot cake']\n",
      "['Tikka', 'falafel']\n"
     ]
    }
   ],
   "source": [
    "my_foods = ['pizza', 'falafel', 'carrot cake'] \n",
    "friend_foods = my_foods[:2] # deep copy\n",
    "\n",
    "print(my_foods)\n",
    "print(friend_foods)\n",
    "\n",
    "friend_foods[0] = \"Tikka\"\n",
    "\n",
    "print(my_foods)\n",
    "print(friend_foods)"
   ]
  },
  {
   "cell_type": "markdown",
   "metadata": {},
   "source": [
    "# Tuples"
   ]
  },
  {
   "cell_type": "code",
   "execution_count": 63,
   "metadata": {},
   "outputs": [
    {
     "name": "stdout",
     "output_type": "stream",
     "text": [
      "A\n",
      "('A', 'B')\n"
     ]
    }
   ],
   "source": [
    "names:tuple[str] = ('A',\"B\",'C')\n",
    "print(names[0])\n",
    "print(names[0:2])"
   ]
  },
  {
   "cell_type": "code",
   "execution_count": 64,
   "metadata": {},
   "outputs": [
    {
     "ename": "TypeError",
     "evalue": "'tuple' object does not support item assignment",
     "output_type": "error",
     "traceback": [
      "\u001b[1;31m---------------------------------------------------------------------------\u001b[0m",
      "\u001b[1;31mTypeError\u001b[0m                                 Traceback (most recent call last)",
      "Cell \u001b[1;32mIn[64], line 3\u001b[0m\n\u001b[0;32m      1\u001b[0m names:\u001b[38;5;28mtuple\u001b[39m[\u001b[38;5;28mstr\u001b[39m] \u001b[38;5;241m=\u001b[39m (\u001b[38;5;124m'\u001b[39m\u001b[38;5;124mA\u001b[39m\u001b[38;5;124m'\u001b[39m,\u001b[38;5;124m\"\u001b[39m\u001b[38;5;124mB\u001b[39m\u001b[38;5;124m\"\u001b[39m,\u001b[38;5;124m'\u001b[39m\u001b[38;5;124mC\u001b[39m\u001b[38;5;124m'\u001b[39m)\n\u001b[1;32m----> 3\u001b[0m \u001b[43mnames\u001b[49m\u001b[43m[\u001b[49m\u001b[38;5;241;43m0\u001b[39;49m\u001b[43m]\u001b[49m \u001b[38;5;241m=\u001b[39m \u001b[38;5;124m\"\u001b[39m\u001b[38;5;124mPakistan\u001b[39m\u001b[38;5;124m\"\u001b[39m\n",
      "\u001b[1;31mTypeError\u001b[0m: 'tuple' object does not support item assignment"
     ]
    }
   ],
   "source": [
    "names:tuple[str] = ('A',\"B\",'C')\n",
    "\n",
    "names[0] = \"Pakistan\""
   ]
  }
 ],
 "metadata": {
  "kernelspec": {
   "display_name": "python12",
   "language": "python",
   "name": "python3"
  },
  "language_info": {
   "codemirror_mode": {
    "name": "ipython",
    "version": 3
   },
   "file_extension": ".py",
   "mimetype": "text/x-python",
   "name": "python",
   "nbconvert_exporter": "python",
   "pygments_lexer": "ipython3",
   "version": "3.12.0"
  }
 },
 "nbformat": 4,
 "nbformat_minor": 2
}
