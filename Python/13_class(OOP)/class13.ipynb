{
 "cells": [
  {
   "cell_type": "code",
   "execution_count": 1,
   "metadata": {},
   "outputs": [],
   "source": [
    "def obj1_speak():pass\n",
    "def obj2_speak():pass\n",
    "\n",
    "obj1_name : str = \"Sir Zia\"\n",
    "obj2_name : str = \"Muhammad Qasim\""
   ]
  },
  {
   "cell_type": "markdown",
   "metadata": {},
   "source": [
    "## OOP (Object Oriented Programming)\n",
    "\n",
    "   * Class\n",
    "\n",
    "      *  method\n",
    "          *  first argument must be additional variable (self, this, or anything else)\n",
    "\n",
    "      *  attribute\n",
    "          *  connect with individual object\n",
    "\n",
    "      *  class variables\n",
    "\n",
    "      *  constructor\n",
    "          *  def __init__(self,arg1, arg2)\n",
    "\n",
    "      *  Class variable\n",
    "          *  this value use for all objects\n",
    "                ClassName.class_vriable\n",
    "\n",
    "class ClassName():\n",
    "    class_variable1 : type = Value\n",
    "\n",
    "#### Syntax of class\n",
    "\n",
    "class ClassName():\n",
    "    pass\n",
    "\n"
   ]
  },
  {
   "cell_type": "code",
   "execution_count": 6,
   "metadata": {},
   "outputs": [],
   "source": [
    "class Teacher():\n",
    "    def __init__(self, teacher_id : int , teacher_name : str) -> None: # method/constructor\n",
    "        self.name : str = teacher_name #self.attribute_name = value\n",
    "        self.teacher_id : int  = teacher_id\n",
    "        self.organization_name: str = \"PIAIC\"\n",
    "\n",
    "\n",
    "    def speak(self, words : str )->None: # method\n",
    "        print(f\"{self.name} is speaking {words}\")\n",
    "    \n",
    "    def teaching(self, subject : str )->None: # method\n",
    "        print(f\"{self.name} is teaching {subject}...!\")"
   ]
  },
  {
   "cell_type": "code",
   "execution_count": 7,
   "metadata": {},
   "outputs": [],
   "source": [
    "#\n",
    "obj1 : Teacher = Teacher(1,\"Sir Zia Khan\") #intialize object->calling constructor __init__() method only this time\n",
    "# obj1 = object, teacher class instance\n",
    "\n",
    "\n",
    "\n",
    "obj2 : Teacher = Teacher(2, \"Muhammad Qasim\")"
   ]
  },
  {
   "cell_type": "code",
   "execution_count": 14,
   "metadata": {},
   "outputs": [
    {
     "ename": "TypeError",
     "evalue": "Teacher.speak() missing 1 required positional argument: 'words'",
     "output_type": "error",
     "traceback": [
      "\u001b[1;31m---------------------------------------------------------------------------\u001b[0m",
      "\u001b[1;31mTypeError\u001b[0m                                 Traceback (most recent call last)",
      "Cell \u001b[1;32mIn[14], line 1\u001b[0m\n\u001b[1;32m----> 1\u001b[0m abc1 : Teacher \u001b[38;5;241m=\u001b[39m \u001b[43mTeacher\u001b[49m\u001b[38;5;241;43m.\u001b[39;49m\u001b[43mspeak\u001b[49m\u001b[43m(\u001b[49m\u001b[38;5;241;43m2\u001b[39;49m\u001b[43m)\u001b[49m\n",
      "\u001b[1;31mTypeError\u001b[0m: Teacher.speak() missing 1 required positional argument: 'words'"
     ]
    }
   ],
   "source": [
    "abc1 : Teacher = Teacher.speak(2)"
   ]
  },
  {
   "cell_type": "code",
   "execution_count": 15,
   "metadata": {},
   "outputs": [
    {
     "name": "stdout",
     "output_type": "stream",
     "text": [
      "Sir Zia Khan\n",
      "1\n",
      "PIAIC\n",
      "Muhammad Qasim\n",
      "2\n",
      "PIAIC\n"
     ]
    }
   ],
   "source": [
    "print(obj1.name)\n",
    "print(obj1.teacher_id)\n",
    "print(obj1.organization_name)\n",
    "\n",
    "print(obj2.name)\n",
    "print(obj2.teacher_id)\n",
    "print(obj2.organization_name)"
   ]
  },
  {
   "cell_type": "code",
   "execution_count": 18,
   "metadata": {},
   "outputs": [
    {
     "name": "stdout",
     "output_type": "stream",
     "text": [
      "Sir Zia Khan is teaching Generative AI...!\n"
     ]
    }
   ],
   "source": [
    "obj1.teaching(\"Generative AI\")"
   ]
  },
  {
   "cell_type": "code",
   "execution_count": 19,
   "metadata": {},
   "outputs": [
    {
     "name": "stdout",
     "output_type": "stream",
     "text": [
      "Muhammad Qasim is teaching Deep Learning...!\n"
     ]
    }
   ],
   "source": [
    "obj2.teaching(\"Deep Learning\")"
   ]
  },
  {
   "cell_type": "code",
   "execution_count": 20,
   "metadata": {},
   "outputs": [
    {
     "data": {
      "text/plain": [
       "['__class__',\n",
       " '__delattr__',\n",
       " '__dict__',\n",
       " '__dir__',\n",
       " '__doc__',\n",
       " '__eq__',\n",
       " '__format__',\n",
       " '__ge__',\n",
       " '__getattribute__',\n",
       " '__getstate__',\n",
       " '__gt__',\n",
       " '__hash__',\n",
       " '__init__',\n",
       " '__init_subclass__',\n",
       " '__le__',\n",
       " '__lt__',\n",
       " '__module__',\n",
       " '__ne__',\n",
       " '__new__',\n",
       " '__reduce__',\n",
       " '__reduce_ex__',\n",
       " '__repr__',\n",
       " '__setattr__',\n",
       " '__sizeof__',\n",
       " '__str__',\n",
       " '__subclasshook__',\n",
       " '__weakref__',\n",
       " 'name',\n",
       " 'organization_name',\n",
       " 'speak',\n",
       " 'teacher_id',\n",
       " 'teaching']"
      ]
     },
     "execution_count": 20,
     "metadata": {},
     "output_type": "execute_result"
    }
   ],
   "source": [
    "dir(obj1)"
   ]
  },
  {
   "cell_type": "code",
   "execution_count": 22,
   "metadata": {},
   "outputs": [],
   "source": [
    "class Teacher():\n",
    "    def __init__(this, teacher_id : int , teacher_name : str) -> None: # method/constructor\n",
    "        this.name : str = teacher_name\n",
    "        this.teacher_id = teacher_id\n",
    "        this.organization_name = \"PIAIC\"\n",
    "\n",
    "\n",
    "    def speak(this, words : str )->None: # method\n",
    "        print(f\"{this.name} is speaking {words}\")\n",
    "    \n",
    "    def teaching(this, subject : str )->None: # method\n",
    "        print(f\"{this.name} is teaching {subject}...!\")\n",
    "\n",
    "\n",
    "obj1 : Teacher = Teacher(1,\"Sir Zia Khan\")\n",
    "obj2 : Teacher = Teacher(2, \"Muhammad Qasim\")"
   ]
  },
  {
   "cell_type": "markdown",
   "metadata": {},
   "source": [
    "## Class Variable\n",
    "\n",
    "   * Class variable\n",
    "\n",
    "   * this value use for all objects\n",
    "      *  ClassName.class_variable\n",
    "      *  object_name.class_variable\n",
    "\n",
    "   * class ClassName():\n",
    "      *  class_variable1 : type = Value\n",
    "\n"
   ]
  },
  {
   "cell_type": "code",
   "execution_count": 25,
   "metadata": {},
   "outputs": [
    {
     "name": "stdout",
     "output_type": "stream",
     "text": [
      "1 1\n"
     ]
    }
   ],
   "source": [
    "class Teacher():\n",
    "    counter : int = 0 # Class variable1\n",
    "    help_line_number : str = \"0315-2968211\" # class variable2\n",
    "\n",
    "    def __init__(self, teacher_id : int , teacher_name : str) -> None: # method/constructor\n",
    "        self.name : str = teacher_name #self.attribute_name = value\n",
    "        self.teacher_id : int  = teacher_id\n",
    "        self.organization_name: str = \"PIAIC\"\n",
    "        Teacher.counter += 1\n",
    "\n",
    "\n",
    "    def speak(self, words : str )->None: # method\n",
    "        print(f\"{self.name} is speaking {words}\")\n",
    "    \n",
    "    def teaching(self, subject : str )->None: # method\n",
    "        print(f\"{self.name} is teaching {subject}...!\")\n",
    "\n",
    "    def details(self)->None:\n",
    "        information : str = f\"\"\"\n",
    "Teacher name is {self.name}\n",
    "our help line number is {Teacher.help_line_number}\n",
    "\n",
    "\"\"\"\n",
    "        print(information)\n",
    "\n",
    "\n",
    "obj1 : Teacher = Teacher(1,\"Sir Zia Khan\")\n",
    "\n",
    "print(Teacher.counter, obj1.counter)"
   ]
  },
  {
   "cell_type": "code",
   "execution_count": 26,
   "metadata": {},
   "outputs": [
    {
     "data": {
      "text/plain": [
       "1288390010128"
      ]
     },
     "execution_count": 26,
     "metadata": {},
     "output_type": "execute_result"
    }
   ],
   "source": [
    "id(obj1)"
   ]
  },
  {
   "cell_type": "code",
   "execution_count": 27,
   "metadata": {},
   "outputs": [
    {
     "name": "stdout",
     "output_type": "stream",
     "text": [
      "2 2\n"
     ]
    }
   ],
   "source": [
    "obj2 : Teacher = Teacher(2, \"Muhammad Qasim\")\n",
    "print(Teacher.counter, obj1.counter)"
   ]
  },
  {
   "cell_type": "code",
   "execution_count": 28,
   "metadata": {},
   "outputs": [
    {
     "data": {
      "text/plain": [
       "1288389706048"
      ]
     },
     "execution_count": 28,
     "metadata": {},
     "output_type": "execute_result"
    }
   ],
   "source": [
    "id(obj2)"
   ]
  },
  {
   "cell_type": "code",
   "execution_count": 29,
   "metadata": {},
   "outputs": [
    {
     "name": "stdout",
     "output_type": "stream",
     "text": [
      "2\n",
      "2\n",
      "2\n",
      "0315-2968211\n",
      "0315-2968211\n",
      "0315-2968211\n"
     ]
    }
   ],
   "source": [
    "print(obj1.counter)\n",
    "print(obj2.counter)\n",
    "print(Teacher.counter)\n",
    "\n",
    "print(obj1.help_line_number)\n",
    "print(obj2.help_line_number)\n",
    "print(Teacher.help_line_number)\n",
    "\n"
   ]
  },
  {
   "cell_type": "code",
   "execution_count": 30,
   "metadata": {},
   "outputs": [
    {
     "name": "stdout",
     "output_type": "stream",
     "text": [
      "\n",
      "Teacher name is Sir Zia Khan\n",
      "our help line number is 0315-2968211\n",
      "\n",
      "\n"
     ]
    }
   ],
   "source": [
    "obj1.details()"
   ]
  },
  {
   "cell_type": "markdown",
   "metadata": {},
   "source": [
    "## 1. Inheritance\n",
    "```\n",
    "class ChileClass(ParentClass):\n",
    "    pass "
   ]
  },
  {
   "cell_type": "code",
   "execution_count": 31,
   "metadata": {},
   "outputs": [
    {
     "name": "stdout",
     "output_type": "stream",
     "text": [
      "Brown\n",
      "black\n",
      "Parent method speak: Pakistan zinda bad!\n",
      "You are looking TV!\n",
      "======Child object=======\n",
      "You are looking Cenima!\n",
      "None\n",
      "Parent method speak: Hello World\n",
      "None\n",
      "Brown\n"
     ]
    }
   ],
   "source": [
    "class Parents():\n",
    "    def __init__(self)->None:\n",
    "        self.eye_color : str = \"Brown\"\n",
    "        self.hair_color : str = \"black\"\n",
    "\n",
    "    def speak(self, words: str)->None:\n",
    "        print(f\"Parent method speak: {words}\")\n",
    "\n",
    "    def watching(sef, object_name : str)->None:\n",
    "        print(f\"You are looking {object_name}!\")\n",
    "\n",
    "\n",
    "class Child(Parents):\n",
    "    pass \n",
    "\n",
    "\n",
    "\n",
    "obj1 : Parents = Parents()\n",
    "print(obj1.eye_color)\n",
    "print(obj1.hair_color)\n",
    "obj1.speak(\"Pakistan zinda bad!\")\n",
    "obj1.watching(\"TV\")\n",
    "\n",
    "print(\"======Child object=======\")\n",
    "### Child object \n",
    "\n",
    "obj2 : Child = Child()\n",
    "print(obj2.watching(\"Cenima\"))\n",
    "print(obj2.speak(\"Hello World\"))\n",
    "print(obj2.eye_color)"
   ]
  },
  {
   "cell_type": "code",
   "execution_count": 45,
   "metadata": {},
   "outputs": [
    {
     "name": "stdout",
     "output_type": "stream",
     "text": [
      "Brown\n",
      "black\n",
      "Parent method speak: Pakistan zinda bad!\n",
      "You are looking TV!\n",
      "======Child object=======\n",
      "You are looking Cenima!\n",
      "Parent method speak: Hello World\n",
      "Brown\n",
      "black\n",
      "Child method for teaching : Generative AI\n"
     ]
    }
   ],
   "source": [
    "class Parents():\n",
    "    def __init__(self)->None:\n",
    "        self.eye_color : str = \"Brown\"\n",
    "        self.hair_color : str = \"black\"\n",
    "\n",
    "    def speak(self, words: str)->None:\n",
    "        print(f\"Parent method speak: {words}\")\n",
    "\n",
    "    def watching(sef, object_name : str)->None:\n",
    "        print(f\"You are looking {object_name}!\")\n",
    "\n",
    "\n",
    "class Child(Parents):\n",
    "    def teaching(self, subject : str = None)->None:\n",
    "        print(f'Child method for teaching : {subject}')\n",
    "     \n",
    "\n",
    "\n",
    "obj1 : Parents = Parents()\n",
    "print(obj1.eye_color)\n",
    "print(obj1.hair_color)\n",
    "obj1.speak(\"Pakistan zinda bad!\")\n",
    "obj1.watching(\"TV\")\n",
    "\n",
    "\n",
    "print(\"======Child object=======\")\n",
    "### Child object \n",
    "\n",
    "obj2 : Child = Child()\n",
    "obj2.watching(\"Cenima\")\n",
    "obj2.speak(\"Hello World\")\n",
    "print(obj2.eye_color)\n",
    "print(obj2.hair_color)\n",
    "obj2.teaching(\"Generative AI\")"
   ]
  },
  {
   "cell_type": "code",
   "execution_count": 57,
   "metadata": {},
   "outputs": [
    {
     "ename": "TypeError",
     "evalue": "Employee.__init__() missing 1 required positional argument: 'name'",
     "output_type": "error",
     "traceback": [
      "\u001b[1;31m---------------------------------------------------------------------------\u001b[0m",
      "\u001b[1;31mTypeError\u001b[0m                                 Traceback (most recent call last)",
      "Cell \u001b[1;32mIn[57], line 24\u001b[0m\n\u001b[0;32m     18\u001b[0m         \u001b[38;5;28mself\u001b[39m\u001b[38;5;241m.\u001b[39mprogramming_skills : \u001b[38;5;28mlist\u001b[39m[\u001b[38;5;28mstr\u001b[39m] \u001b[38;5;241m=\u001b[39m [\u001b[38;5;124m\"\u001b[39m\u001b[38;5;124mpython\u001b[39m\u001b[38;5;124m\"\u001b[39m]\n\u001b[0;32m     22\u001b[0m designe1 : Designer \u001b[38;5;241m=\u001b[39m Designer(\u001b[38;5;124m\"\u001b[39m\u001b[38;5;124mAnimation Artist\u001b[39m\u001b[38;5;124m\"\u001b[39m,\u001b[38;5;124m\"\u001b[39m\u001b[38;5;124msami\u001b[39m\u001b[38;5;124m\"\u001b[39m)\n\u001b[1;32m---> 24\u001b[0m dev1 : Developer \u001b[38;5;241m=\u001b[39m \u001b[43mDeveloper\u001b[49m\u001b[43m(\u001b[49m\u001b[38;5;124;43m\"\u001b[39;49m\u001b[38;5;124;43mGenAI Engineer\u001b[39;49m\u001b[38;5;124;43m\"\u001b[39;49m\u001b[43m,\u001b[49m\u001b[38;5;124;43m\"\u001b[39;49m\u001b[38;5;124;43msami\u001b[39;49m\u001b[38;5;124;43m\"\u001b[39;49m\u001b[43m)\u001b[49m\n\u001b[0;32m     26\u001b[0m \u001b[38;5;66;03m# print(designe1.title)\u001b[39;00m\n\u001b[0;32m     27\u001b[0m \n\u001b[0;32m     28\u001b[0m \u001b[38;5;66;03m# print(dev1.programming_skills)\u001b[39;00m\n",
      "Cell \u001b[1;32mIn[57], line 16\u001b[0m, in \u001b[0;36mDeveloper.__init__\u001b[1;34m(self, title, name)\u001b[0m\n\u001b[0;32m     15\u001b[0m \u001b[38;5;28;01mdef\u001b[39;00m \u001b[38;5;21m__init__\u001b[39m(\u001b[38;5;28mself\u001b[39m, title:\u001b[38;5;28mstr\u001b[39m,name:\u001b[38;5;28mstr\u001b[39m) \u001b[38;5;241m-\u001b[39m\u001b[38;5;241m>\u001b[39m \u001b[38;5;28;01mNone\u001b[39;00m:\n\u001b[1;32m---> 16\u001b[0m     \u001b[38;5;28;43msuper\u001b[39;49m\u001b[43m(\u001b[49m\u001b[43m)\u001b[49m\u001b[38;5;241;43m.\u001b[39;49m\u001b[38;5;21;43m__init__\u001b[39;49m\u001b[43m(\u001b[49m\u001b[43m)\u001b[49m \u001b[38;5;66;03m# define name \u001b[39;00m\n\u001b[0;32m     17\u001b[0m     \u001b[38;5;28mself\u001b[39m\u001b[38;5;241m.\u001b[39mtitle: \u001b[38;5;28mstr\u001b[39m \u001b[38;5;241m=\u001b[39m title\n\u001b[0;32m     18\u001b[0m     \u001b[38;5;28mself\u001b[39m\u001b[38;5;241m.\u001b[39mprogramming_skills : \u001b[38;5;28mlist\u001b[39m[\u001b[38;5;28mstr\u001b[39m] \u001b[38;5;241m=\u001b[39m [\u001b[38;5;124m\"\u001b[39m\u001b[38;5;124mpython\u001b[39m\u001b[38;5;124m\"\u001b[39m]\n",
      "\u001b[1;31mTypeError\u001b[0m: Employee.__init__() missing 1 required positional argument: 'name'"
     ]
    }
   ],
   "source": [
    "class Employee():\n",
    "    def __init__(self, name:str) -> None:\n",
    "        self.name : str = name\n",
    "        self.education : str  = \"\"\n",
    "        self.department : str = \"\"\n",
    "\n",
    "class Designer(Employee):\n",
    "    def __init__(self, title : str, name: str) -> None:\n",
    "        super().__init__(name)\n",
    "\n",
    "        self.title : str = title\n",
    "\n",
    "\n",
    "class Developer(Employee):\n",
    "    def __init__(self, title:str,name:str) -> None:\n",
    "        super().__init__() # define name \n",
    "        self.title: str = title\n",
    "        self.programming_skills : list[str] = [\"python\"]\n",
    "\n",
    "\n",
    "\n",
    "designe1 : Designer = Designer(\"Animation Artist\",\"sami\")\n",
    "\n",
    "dev1 : Developer = Developer(\"GenAI Engineer\",\"sami\")\n",
    "\n",
    "# print(designe1.title)\n",
    "\n",
    "# print(dev1.programming_skills)\n",
    "    "
   ]
  },
  {
   "cell_type": "code",
   "execution_count": 55,
   "metadata": {},
   "outputs": [
    {
     "name": "stdout",
     "output_type": "stream",
     "text": [
      "Animation Artist\n",
      "['python']\n"
     ]
    }
   ],
   "source": [
    "from typing import List\n",
    "\n",
    "class Employee:\n",
    "    def __init__(self, name: str) -> None:\n",
    "        self.name: str = name\n",
    "        self.education: str = \"\"\n",
    "        self.department: str = \"\"\n",
    "\n",
    "class Designer(Employee):\n",
    "    def __init__(self, title: str, name: str) -> None:\n",
    "        super().__init__(name)\n",
    "        self.title: str = title\n",
    "\n",
    "class Developer(Employee):\n",
    "    def __init__(self, title: str, name: str) -> None:\n",
    "        super().__init__(name)\n",
    "        self.title: str = title\n",
    "        self.programming_skills: List[str] = [\"python\"]\n",
    "\n",
    "designer1: Designer = Designer(\"Animation Artist\", \"Asif Khan\")\n",
    "dev1: Developer = Developer(\"GenAI Engineer\", \"John Doe\")\n",
    "\n",
    "print(designer1.title)  # Output: Animation Artist\n",
    "print(dev1.programming_skills)  # Output: ['python']\n",
    "\n"
   ]
  },
  {
   "cell_type": "markdown",
   "metadata": {},
   "source": [
    "## 1. Encapsulation\n",
    "Encapsulation: The bundling of data with the methods that operate on that data. It restricts direct access to some of an object's components and can prevent the accidental modification of data.\n",
    "\n",
    "## 2. Abstraction\n",
    "Abstraction: The concept of hiding the complex reality while exposing only the necessary parts. It helps to reduce programming complexity and effort.\n",
    "\n",
    "## 3. Inheritance\n",
    "Inheritance: A mechanism wherein a new class inherits properties and behavior (methods) from another class. This helps to create a new class based on an existing class.\n",
    "\n",
    "## 4. Polymorphism\n",
    "Polymorphism: The ability of different classes to respond to the same message (method call) in different ways. This allows for code to work with objects of various classes as if they were objects of a common superclass.\n",
    "\n",
    " \n",
    "\n"
   ]
  }
 ],
 "metadata": {
  "kernelspec": {
   "display_name": "python12",
   "language": "python",
   "name": "python3"
  },
  "language_info": {
   "codemirror_mode": {
    "name": "ipython",
    "version": 3
   },
   "file_extension": ".py",
   "mimetype": "text/x-python",
   "name": "python",
   "nbconvert_exporter": "python",
   "pygments_lexer": "ipython3",
   "version": "3.12.0"
  }
 },
 "nbformat": 4,
 "nbformat_minor": 2
}
