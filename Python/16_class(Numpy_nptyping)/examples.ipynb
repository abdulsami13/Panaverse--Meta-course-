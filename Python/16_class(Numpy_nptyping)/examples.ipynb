{
 "cells": [
  {
   "cell_type": "code",
   "execution_count": 1,
   "metadata": {},
   "outputs": [
    {
     "name": "stdout",
     "output_type": "stream",
     "text": [
      "Requirement already satisfied: beartype in c:\\users\\sami\\anaconda3\\envs\\python12\\lib\\site-packages (0.16.4)\n"
     ]
    }
   ],
   "source": [
    "# !pip install beartype --upgrade"
   ]
  },
  {
   "cell_type": "code",
   "execution_count": 1,
   "metadata": {},
   "outputs": [],
   "source": [
    "%%code_wrap\n",
    ">>> from typing import Any\n",
    ">>> import numpy as np\n",
    ">>> from nptyping import NDArray, Structure\n",
    "\n",
    ">>> arr = np.array([(\"x\")], np.dtype([(\"x\", \"U10\", (2, 2))]))\n",
    ">>> isinstance(arr, NDArray[Any, Structure[\"x: Str[2, 2]\"]])"
   ]
  },
  {
   "cell_type": "code",
   "execution_count": 2,
   "metadata": {},
   "outputs": [
    {
     "data": {
      "text/plain": [
       "True"
      ]
     },
     "execution_count": 2,
     "metadata": {},
     "output_type": "execute_result"
    }
   ],
   "source": [
    "from typing import Any\n",
    "import numpy as np\n",
    "from nptyping import NDArray, Structure\n",
    "arr = np.array([(\"x\")], np.dtype([(\"x\", \"U10\", (2, 2))]))\n",
    "display(arr)\n"
   ]
  },
  {
   "cell_type": "code",
   "execution_count": 3,
   "metadata": {},
   "outputs": [
    {
     "data": {
      "text/plain": [
       "True"
      ]
     },
     "execution_count": 3,
     "metadata": {},
     "output_type": "execute_result"
    }
   ],
   "source": [
    "from typing import Any\n",
    "import numpy as np\n",
    "from nptyping import NDArray, Structure\n",
    "\n",
    "display(Structure[\"anyType: *\"])\n",
    "print(\"aa\")\n",
    "\n"
   ]
  }
 ],
 "metadata": {
  "kernelspec": {
   "display_name": "python12",
   "language": "python",
   "name": "python3"
  },
  "language_info": {
   "codemirror_mode": {
    "name": "ipython",
    "version": 3
   },
   "file_extension": ".py",
   "mimetype": "text/x-python",
   "name": "python",
   "nbconvert_exporter": "python",
   "pygments_lexer": "ipython3",
   "version": "3.12.0"
  }
 },
 "nbformat": 4,
 "nbformat_minor": 2
}
